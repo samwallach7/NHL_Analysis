{
 "cells": [
  {
   "cell_type": "code",
   "execution_count": 25,
   "metadata": {},
   "outputs": [],
   "source": [
    "import requests\n",
    "import json\n",
    "#import plotly.graph_objects as go\n",
    "import pandas as pd\n",
    "from config import api_key"
   ]
  },
  {
   "cell_type": "code",
   "execution_count": 31,
   "metadata": {},
   "outputs": [],
   "source": [
    "import requests\n",
    "\n",
    "data = []\n",
    "\n",
    "url = 'https://api.sportsdata.io/v3/nhl/scores/json/Stadiums?key=3341e08d061e4fcdbbbef942d86962c1'\n",
    "response = requests.get(url)\n",
    "\n",
    "if response.status_code == 200:\n",
    "    data = response.json()  # Assuming the API response is in JSON format\n",
    "else:\n",
    "    print(\"Failed to retrieve data from the API\")\n"
   ]
  },
  {
   "cell_type": "code",
   "execution_count": 32,
   "metadata": {},
   "outputs": [
    {
     "name": "stdout",
     "output_type": "stream",
     "text": [
      "[{\"StadiumID\":1,\"Active\":true,\"Name\":\"Honda Center\",\"Address\":\"2695 E. Katella Ave.\",\"City\":\"Anaheim\",\"State\":\"CA\",\"Zip\":\"92806\",\"Country\":\"USA\",\"Capacity\":17174,\"GeoLat\":33.807778,\"GeoLong\":-117.876667},{\"StadiumID\":2,\"Active\":true,\"Name\":\"Desert Diamond Arena\",\"Address\":\"9400 W. Maryland Ave.\",\"City\":\"Glendale\",\"State\":\"AZ\",\"Zip\":\"85305\",\"Country\":\"USA\",\"Capacity\":17125,\"GeoLat\":33.531944,\"GeoLong\":-112.261111},{\"StadiumID\":3,\"Active\":true,\"Name\":\"TD Garden\",\"Address\":\"100 Legends Way\",\"City\":\"Boston\",\"State\":\"MA\",\"Zip\":\"2114\",\"Country\":\"USA\",\"Capacity\":17565,\"GeoLat\":42.366303,\"GeoLong\":-71.062228},{\"StadiumID\":4,\"Active\":true,\"Name\":\"KeyBank Center\",\"Address\":\"One Seymour H. Knox III Plaza\",\"City\":\"Buffalo\",\"State\":\"NY\",\"Zip\":\"14203\",\"Country\":\"USA\",\"Capacity\":18690,\"GeoLat\":42.875000,\"GeoLong\":-78.876389},{\"StadiumID\":5,\"Active\":true,\"Name\":\"PNC Arena\",\"Address\":\"1400 Edwards Mill Road\",\"City\":\"Raleigh\",\"State\":\"NC\",\"Zip\":\"27607\",\"Country\":\"USA\",\"Capacity\":18680,\"GeoLat\":35.803333,\"GeoLong\":-78.721944},{\"StadiumID\":6,\"Active\":true,\"Name\":\"Nationwide Arena\",\"Address\":\"200 W. Nationwide Blvd.\",\"City\":\"Columbus\",\"State\":\"OH\",\"Zip\":\"43215\",\"Country\":\"USA\",\"Capacity\":18144,\"GeoLat\":39.969283,\"GeoLong\":-83.006111},{\"StadiumID\":7,\"Active\":true,\"Name\":\"Scotiabank Saddledome\",\"Address\":\"555 Saddledome Rise S.E.\",\"City\":\"Calgary\",\"State\":\"AB\",\"Zip\":\"T2G 2W1\",\"Country\":\"CAN\",\"Capacity\":19289,\"GeoLat\":51.037500,\"GeoLong\":-114.051944},{\"StadiumID\":8,\"Active\":true,\"Name\":\"United Center\",\"Address\":\"1901 W. Madison St.\",\"City\":\"Chicago\",\"State\":\"IL\",\"Zip\":\"60612\",\"Country\":\"USA\",\"Capacity\":19717,\"GeoLat\":41.880556,\"GeoLong\":-87.674167},{\"StadiumID\":9,\"Active\":true,\"Name\":\"Ball Arena\",\"Address\":\"1000 Chopper Circle\",\"City\":\"Denver\",\"State\":\"CO\",\"Zip\":\"80204\",\"Country\":\"USA\",\"Capacity\":18007,\"GeoLat\":39.748611,\"GeoLong\":-105.007500},{\"StadiumID\":10,\"Active\":true,\"Name\":\"American Airlines Center\",\"Address\":\"2500 Victory Ave.\",\"City\":\"Dallas\",\"State\":\"TX\",\"Zip\":\"75219\",\"Country\":\"USA\",\"Capacity\":18532,\"GeoLat\":32.790556,\"GeoLong\":-96.810278},{\"StadiumID\":11,\"Active\":true,\"Name\":\"Little Caesars Arena\",\"Address\":\"2645 Woodward Ave\",\"City\":\"Detroit\",\"State\":\"MI\",\"Zip\":\"48201\",\"Country\":\"USA\",\"Capacity\":20491,\"GeoLat\":42.551262,\"GeoLong\":-83.217862},{\"StadiumID\":12,\"Active\":true,\"Name\":\"Rogers Place\",\"Address\":\"7424 118th Avenue\",\"City\":\"Edmonton\",\"State\":\"AB\",\"Zip\":\"T5B 4M9\",\"Country\":\"CAN\",\"Capacity\":16839,\"GeoLat\":53.571389,\"GeoLong\":-113.456111},{\"StadiumID\":13,\"Active\":true,\"Name\":\"FLA Live Arena\",\"Address\":\"One Panther Parkway\",\"City\":\"Sunrise\",\"State\":\"FL\",\"Zip\":\"33323\",\"Country\":\"USA\",\"Capacity\":17040,\"GeoLat\":26.158333,\"GeoLong\":-80.325556},{\"StadiumID\":14,\"Active\":true,\"Name\":\"Crypto.com Arena\",\"Address\":\"1111 S. Figueroa St.\",\"City\":\"Los Angeles\",\"State\":\"CA\",\"Zip\":\"90015\",\"Country\":\"USA\",\"Capacity\":18997,\"GeoLat\":34.043056,\"GeoLong\":-118.267222},{\"StadiumID\":15,\"Active\":true,\"Name\":\"Xcel Energy Center\",\"Address\":\"199 W. Kellogg Blvd.\",\"City\":\"St. Paul\",\"State\":\"MN\",\"Zip\":\"55102\",\"Country\":\"USA\",\"Capacity\":18064,\"GeoLat\":44.944722,\"GeoLong\":-93.101111},{\"StadiumID\":16,\"Active\":true,\"Name\":\"Bell Centre\",\"Address\":\"1909 Avenue des Canadiens-de-Montreal\",\"City\":\"Montreal\",\"State\":\"QC\",\"Zip\":\"H3B 5E8\",\"Country\":\"CAN\",\"Capacity\":21273,\"GeoLat\":45.496111,\"GeoLong\":-73.569444},{\"StadiumID\":17,\"Active\":true,\"Name\":\"Bridgestone Arena\",\"Address\":\"501 Broadway\",\"City\":\"Nashville\",\"State\":\"TN\",\"Zip\":\"37203\",\"Country\":\"USA\",\"Capacity\":17113,\"GeoLat\":36.159167,\"GeoLong\":-86.778611},{\"StadiumID\":18,\"Active\":true,\"Name\":\"Prudential Center\",\"Address\":\"165 Mulberry St.\",\"City\":\"Newark\",\"State\":\"NJ\",\"Zip\":\"7102\",\"Country\":\"USA\",\"Capacity\":17625,\"GeoLat\":40.733611,\"GeoLong\":-74.171111},{\"StadiumID\":19,\"Active\":true,\"Name\":\"Barclays Center\",\"Address\":\"620 Atlantic Ave.\",\"City\":\"Brooklyn\",\"State\":\"NY\",\"Zip\":\"11217\",\"Country\":\"USA\",\"Capacity\":15813,\"GeoLat\":40.682661,\"GeoLong\":-73.975225},{\"StadiumID\":20,\"Active\":true,\"Name\":\"Madison Square Garden\",\"Address\":\"Four Pennsylvania Plaza\",\"City\":\"New York\",\"State\":\"NY\",\"Zip\":\"10001\",\"Country\":\"USA\",\"Capacity\":18200,\"GeoLat\":40.750556,\"GeoLong\":-73.993611},{\"StadiumID\":21,\"Active\":true,\"Name\":\"Canadian Tire Centre\",\"Address\":\"1000 Palladium Drive\",\"City\":\"Ottawa\",\"State\":\"ON\",\"Zip\":\"K2V 1A5\",\"Country\":\"CAN\",\"Capacity\":19153,\"GeoLat\":45.296944,\"GeoLong\":-75.927222},{\"StadiumID\":22,\"Active\":true,\"Name\":\"Wells Fargo Center\",\"Address\":\"3601 S. Broad St.\",\"City\":\"Philadelphia\",\"State\":\"PA\",\"Zip\":\"19148\",\"Country\":\"USA\",\"Capacity\":19537,\"GeoLat\":39.901111,\"GeoLong\":-75.171944},{\"StadiumID\":23,\"Active\":true,\"Name\":\"PPG Paints Arena\",\"Address\":\"1001 Fifth Ave.\",\"City\":\"Pittsburgh\",\"State\":\"PA\",\"Zip\":\"15219\",\"Country\":\"USA\",\"Capacity\":18387,\"GeoLat\":40.439444,\"GeoLong\":-79.989167},{\"StadiumID\":24,\"Active\":true,\"Name\":\"SAP Center\",\"Address\":\"525 W. Santa Clara St.\",\"City\":\"San Jose\",\"State\":\"CA\",\"Zip\":\"95113\",\"Country\":\"USA\",\"Capacity\":17562,\"GeoLat\":37.332778,\"GeoLong\":-121.901111},{\"StadiumID\":25,\"Active\":true,\"Name\":\"Enterprise Center\",\"Address\":\"1401 Clark Ave.\",\"City\":\"St. Louis\",\"State\":\"MO\",\"Zip\":\"63103\",\"Country\":\"USA\",\"Capacity\":19150,\"GeoLat\":38.626667,\"GeoLong\":-90.202500},{\"StadiumID\":26,\"Active\":true,\"Name\":\"Amalie Arena\",\"Address\":\"401 Channelside Drive\",\"City\":\"Tampa\",\"State\":\"FL\",\"Zip\":\"33602\",\"Country\":\"USA\",\"Capacity\":19204,\"GeoLat\":27.942778,\"GeoLong\":-82.451944},{\"StadiumID\":27,\"Active\":true,\"Name\":\"Scotiabank Arena\",\"Address\":\"40 Bay St.\",\"City\":\"Toronto\",\"State\":\"ON\",\"Zip\":\"M5J 2X2\",\"Country\":\"CAN\",\"Capacity\":18819,\"GeoLat\":43.643333,\"GeoLong\":-79.379167},{\"StadiumID\":28,\"Active\":true,\"Name\":\"Rogers Arena\",\"Address\":\"800 Griffiths Way\",\"City\":\"Vancouver\",\"State\":\"BC\",\"Zip\":\"V6B 6G1\",\"Country\":\"CAN\",\"Capacity\":18890,\"GeoLat\":49.277778,\"GeoLong\":-123.108889},{\"StadiumID\":29,\"Active\":true,\"Name\":\"Capital One Arena\",\"Address\":\"601 F St. N.W.\",\"City\":\"Washington\",\"State\":\"DC\",\"Zip\":\"20004\",\"Country\":\"USA\",\"Capacity\":18506,\"GeoLat\":38.898056,\"GeoLong\":-77.020833},{\"StadiumID\":30,\"Active\":true,\"Name\":\"Canada Life Centre\",\"Address\":\"300 Portage Ave.\",\"City\":\"Winnipeg\",\"State\":\"MB\",\"Zip\":\"R3C 5S5\",\"Country\":\"CAN\",\"Capacity\":15015,\"GeoLat\":49.892778,\"GeoLong\":-97.143611},{\"StadiumID\":31,\"Active\":true,\"Name\":\"T-Mobile Arena\",\"Address\":\"3780 S. Las Vegas Blvd.\",\"City\":\"Las Vegas\",\"State\":\"NV\",\"Zip\":\"89158\",\"Country\":\"USA\",\"Capacity\":17500,\"GeoLat\":36.102778,\"GeoLong\":-115.178333},{\"StadiumID\":39,\"Active\":true,\"Name\":\"Nassau Veterans Memorial Coliseum\",\"Address\":\"1255 Hempstead Turnpike\",\"City\":\"Uniondale\",\"State\":\"NY\",\"Zip\":\"11553\",\"Country\":\"USA\",\"Capacity\":14500,\"GeoLat\":null,\"GeoLong\":null},{\"StadiumID\":40,\"Active\":true,\"Name\":\"O2 Arena\",\"Address\":null,\"City\":\"Prague\",\"State\":null,\"Zip\":null,\"Country\":\"CZ\",\"Capacity\":null,\"GeoLat\":null,\"GeoLong\":null},{\"StadiumID\":41,\"Active\":true,\"Name\":\"Avicii Arena\",\"Address\":\"121 77\",\"City\":\"Stockholm\",\"State\":null,\"Zip\":null,\"Country\":\"Sweden\",\"Capacity\":13850,\"GeoLat\":59.293556,\"GeoLong\":18.083236},{\"StadiumID\":42,\"Active\":true,\"Name\":\"Cotton Bowl\",\"Address\":\"1300 Robert B. Cullum Blvd. \",\"City\":\"Dallas\",\"State\":\"TX\",\"Zip\":\"\",\"Country\":\"USA\",\"Capacity\":92000,\"GeoLat\":32.779722,\"GeoLong\":-96.759722},{\"StadiumID\":43,\"Active\":true,\"Name\":\"Climate Pledge Arena\",\"Address\":\"305 Harrison St\",\"City\":\"Seattle\",\"State\":\"WA\",\"Zip\":\"98109\",\"Country\":\"USA\",\"Capacity\":17459,\"GeoLat\":47.622000,\"GeoLong\":-122.354000},{\"StadiumID\":44,\"Active\":false,\"Name\":\"Edgewood Tahoe Resort\",\"Address\":\"180 Lake Parkway\",\"City\":\"Stateline\",\"State\":\"NV\",\"Zip\":\"89449\",\"Country\":\"USA\",\"Capacity\":null,\"GeoLat\":0.000000,\"GeoLong\":0.000000},{\"StadiumID\":45,\"Active\":true,\"Name\":\"Nissan Stadium\",\"Address\":\"1 Titans Way\",\"City\":\"Nashville\",\"State\":\"TN\",\"Zip\":\"37213\",\"Country\":\"USA\",\"Capacity\":69143,\"GeoLat\":36.166389,\"GeoLong\":-86.771389},{\"StadiumID\":46,\"Active\":true,\"Name\":\"Target Field\",\"Address\":\"1 Twins Way\",\"City\":\"Minneapolis\",\"State\":\"MN\",\"Zip\":\"55403\",\"Country\":\"USA\",\"Capacity\":39021,\"GeoLat\":44.981667,\"GeoLong\":-93.278333},{\"StadiumID\":47,\"Active\":true,\"Name\":\"Webster Bank Arena\",\"Address\":\"600 Main Street\",\"City\":\"Bridgeport\",\"State\":\"CT\",\"Zip\":\"06604\",\"Country\":\"USA\",\"Capacity\":10000,\"GeoLat\":41.173200,\"GeoLong\":-73.187000},{\"StadiumID\":48,\"Active\":true,\"Name\":\"UBS Arena\",\"Address\":\"2150 Hempstead Turnpike\",\"City\":\"Elmont\",\"State\":\"NY\",\"Zip\":\"11003\",\"Country\":\"USA\",\"Capacity\":17113,\"GeoLat\":40.712094,\"GeoLong\":-73.727157},{\"StadiumID\":51,\"Active\":true,\"Name\":\"Abbotsford Centre\",\"Address\":\"33800 King Rd\",\"City\":\"Abbotsford\",\"State\":\"BC\",\"Zip\":\"V2S 8H8\",\"Country\":\"Canada\",\"Capacity\":7000,\"GeoLat\":49.030665,\"GeoLong\":-122.287145},{\"StadiumID\":53,\"Active\":true,\"Name\":\"Spokane Veterans Memorial Arena\",\"Address\":\"720 W Mallon Ave\",\"City\":\"Spokane\",\"State\":\"WA\",\"Zip\":\"99201\",\"Country\":\"USA\",\"Capacity\":12638,\"GeoLat\":47.666000,\"GeoLong\":-117.423000},{\"StadiumID\":54,\"Active\":true,\"Name\":\"Delta Center\",\"Address\":\"301 S Temple\",\"City\":\"Salt Lake City\",\"State\":\"UT\",\"Zip\":\"84101\",\"Country\":\"USA\",\"Capacity\":18300,\"GeoLat\":40.768333,\"GeoLong\":-111.901111},{\"StadiumID\":55,\"Active\":true,\"Name\":\"Angel of the Winds Arena\",\"Address\":\"2000 Hewitt Avenue\",\"City\":\"Everett\",\"State\":\"WA\",\"Zip\":\"98201\",\"Country\":\"USA\",\"Capacity\":10000,\"GeoLat\":47.978611,\"GeoLong\":-122.203611},{\"StadiumID\":56,\"Active\":true,\"Name\":\"Cable Dahmer Arena\",\"Address\":\"19100 E Valley View Pkwy\",\"City\":\"Independence\",\"State\":\"MO\",\"Zip\":\"64005\",\"Country\":\"USA\",\"Capacity\":5800,\"GeoLat\":0.000000,\"GeoLong\":0.000000},{\"StadiumID\":57,\"Active\":true,\"Name\":\"accesso ShoWare Center\",\"Address\":\"625 W James St\",\"City\":\"Kent\",\"State\":\"WA\",\"Zip\":\"98032\",\"Country\":\"USA\",\"Capacity\":6500,\"GeoLat\":0.000000,\"GeoLong\":0.000000},{\"StadiumID\":58,\"Active\":true,\"Name\":\"El Paso County Coliseum\",\"Address\":\"4100 East Paisano Street\",\"City\":\"El Paso\",\"State\":\"TX\",\"Zip\":\"79905\",\"Country\":\"USA\",\"Capacity\":6500,\"GeoLat\":0.000000,\"GeoLong\":0.000000},{\"StadiumID\":59,\"Active\":true,\"Name\":\"Amway Center\",\"Address\":\"400 W Church St\",\"City\":\"Orlando\",\"State\":\"FL\",\"Zip\":\"32801\",\"Country\":\"USA\",\"Capacity\":20000,\"GeoLat\":28.539167,\"GeoLong\":-81.383611},{\"StadiumID\":60,\"Active\":true,\"Name\":\"Tim Hortons Field\",\"Address\":\"64 Melrose Ave N\",\"City\":\"Hamilton\",\"State\":\"ON\",\"Zip\":\"L8L 8C1\",\"Country\":\"Canada\",\"Capacity\":23218,\"GeoLat\":43.252114,\"GeoLong\":-79.830100},{\"StadiumID\":61,\"Active\":true,\"Name\":\"Mullett Arena\",\"Address\":\"411 S. Packard Dr.\",\"City\":\"Tempe\",\"State\":\"AZ\",\"Zip\":\"85281\",\"Country\":\"USA\",\"Capacity\":5000,\"GeoLat\":33.426667,\"GeoLong\":-111.928611},{\"StadiumID\":62,\"Active\":false,\"Name\":\"Fenway Park\",\"Address\":\"4 Jersey Street\",\"City\":\"Boston\",\"State\":\"MA\",\"Zip\":\"02215\",\"Country\":\"USA\",\"Capacity\":37305,\"GeoLat\":42.346250,\"GeoLong\":-71.097750},{\"StadiumID\":63,\"Active\":true,\"Name\":\"Carter-Finley Stadium\",\"Address\":\"4600 Trinity Rd\",\"City\":\"Raleigh\",\"State\":\"NC\",\"Zip\":\"27607\",\"Country\":\"USA\",\"Capacity\":57583,\"GeoLat\":0.000000,\"GeoLong\":0.000000},{\"StadiumID\":64,\"Active\":true,\"Name\":\"Nokia Arena\",\"Address\":\"Sorinkatu 3\",\"City\":\"Tampere\",\"State\":null,\"Zip\":null,\"Country\":\"Finland\",\"Capacity\":13455,\"GeoLat\":61.493952,\"GeoLong\":23.772955},{\"StadiumID\":65,\"Active\":false,\"Name\":\"Intrust Bank Arena\",\"Address\":\"500 E Waterman St\",\"City\":\"Wichita\",\"State\":\"KS\",\"Zip\":\"67202\",\"Country\":\"USA\",\"Capacity\":13450,\"GeoLat\":37.683056,\"GeoLong\":-97.331389},{\"StadiumID\":66,\"Active\":false,\"Name\":\"Tucson Convention Center Arena\",\"Address\":\"260 S Church Ave\",\"City\":\"Tucson\",\"State\":\"AZ\",\"Zip\":\"85701\",\"Country\":\"USA\",\"Capacity\":6791,\"GeoLat\":32.218333,\"GeoLong\":-110.974167},{\"StadiumID\":67,\"Active\":false,\"Name\":\"BOK Center\",\"Address\":\"200 S Denver Ave\",\"City\":\"Tulsa\",\"State\":\"OK\",\"Zip\":\"74103\",\"Country\":\"USA\",\"Capacity\":17096,\"GeoLat\":36.152722,\"GeoLong\":-95.996333},{\"StadiumID\":68,\"Active\":false,\"Name\":\"Toyota Arena\",\"Address\":\"4000 E Ontario Center Pkwy\",\"City\":\"Ontario\",\"State\":\"CA\",\"Zip\":null,\"Country\":\"USA\",\"Capacity\":9736,\"GeoLat\":34.072947,\"GeoLong\":-117.566401},{\"StadiumID\":69,\"Active\":false,\"Name\":\"CAA Arena\",\"Address\":\"265 Canifton Rd\",\"City\":\"Belleville\",\"State\":\"ON\",\"Zip\":\"K8N 4V8\",\"Country\":\"Canada\",\"Capacity\":4365,\"GeoLat\":44.188611,\"GeoLong\":-77.382778},{\"StadiumID\":70,\"Active\":false,\"Name\":\"Fiserv Forum\",\"Address\":\"1111 Vel R. Phillips Ave\",\"City\":\"Milwaukee\",\"State\":\"WI\",\"Zip\":\"53203\",\"Country\":\"USA\",\"Capacity\":15178,\"GeoLat\":43.045028,\"GeoLong\":-87.918167},{\"StadiumID\":71,\"Active\":false,\"Name\":\"Steele Community Centre\",\"Address\":\"155 Airport Blvd\",\"City\":\"Gander\",\"State\":\"NL\",\"Zip\":\"A1V 1K6\",\"Country\":\"Canada\",\"Capacity\":null,\"GeoLat\":0.000000,\"GeoLong\":0.000000},{\"StadiumID\":72,\"Active\":false,\"Name\":\"Idaho Central Arena\",\"Address\":\"233 S Capitol Blvd\",\"City\":\"Boise\",\"State\":\"ID\",\"Zip\":\"83702\",\"Country\":\"USA\",\"Capacity\":5002,\"GeoLat\":43.614000,\"GeoLong\":-116.204000},{\"StadiumID\":73,\"Active\":false,\"Name\":\"J.K. Irving Centre\",\"Address\":\"30 Rue Evangeline\",\"City\":\"Bouctouche\",\"State\":\"NB\",\"Zip\":\"E4S 3E4\",\"Country\":\"Canada\",\"Capacity\":null,\"GeoLat\":0.000000,\"GeoLong\":0.000000},{\"StadiumID\":74,\"Active\":false,\"Name\":\"Rod Laver Arena\",\"Address\":\"Olympic Blvd\",\"City\":\"Melbourne\",\"State\":\"Victoria\",\"Zip\":\"3001\",\"Country\":\"Australia\",\"Capacity\":14820,\"GeoLat\":-37.821667,\"GeoLong\":144.978333},{\"StadiumID\":75,\"Active\":false,\"Name\":\"H-E-B Center at Cedar Park\",\"Address\":\"2100 Ave of the Stars\",\"City\":\"Cedar Park\",\"State\":\"TX\",\"Zip\":\"78613\",\"Country\":\"USA\",\"Capacity\":8000,\"GeoLat\":30.541400,\"GeoLong\":-97.820200},{\"StadiumID\":76,\"Active\":false,\"Name\":\"Joe Thornton Community Centre\",\"Address\":\"75 Caso Crossing\",\"City\":\"St. Thomas\",\"State\":\"ON\",\"Zip\":\"N5P 3V7\",\"Country\":\"Canada\",\"Capacity\":null,\"GeoLat\":0.000000,\"GeoLong\":0.000000},{\"StadiumID\":77,\"Active\":false,\"Name\":\"Acrisure Arena\",\"Address\":\"75702 Varner Road\",\"City\":\"Palm Desert\",\"State\":\"CA\",\"Zip\":\"92211\",\"Country\":\"USA\",\"Capacity\":9918,\"GeoLat\":33.779167,\"GeoLong\":-116.338889},{\"StadiumID\":78,\"Active\":false,\"Name\":\"Pechanga Arena\",\"Address\":\"3500 Sports Arena Blvd\",\"City\":\"San Diego\",\"State\":\"CA\",\"Zip\":\"92110\",\"Country\":\"USA\",\"Capacity\":14600,\"GeoLat\":32.755278,\"GeoLong\":-117.212222},{\"StadiumID\":79,\"Active\":true,\"Name\":\"MetLife Stadium\",\"Address\":\"1 MetLife Stadium Dr\",\"City\":\"East Rutherford\",\"State\":\"NJ\",\"Zip\":\"07073\",\"Country\":\"USA\",\"Capacity\":82500,\"GeoLat\":40.813528,\"GeoLong\":-74.074361},{\"StadiumID\":80,\"Active\":true,\"Name\":\"T-Mobile Park\",\"Address\":\"1250 1st Ave S\",\"City\":\"Seattle\",\"State\":\"WA\",\"Zip\":\"98134\",\"Country\":\"USA\",\"Capacity\":47929,\"GeoLat\":47.591358,\"GeoLong\":-122.333000},{\"StadiumID\":81,\"Active\":true,\"Name\":\"Commonwealth Stadium\",\"Address\":\"11000 Stadium Rd\",\"City\":\"Edmonton\",\"State\":\"AB\",\"Zip\":\"AB T5H 4E2\",\"Country\":\"Canada\",\"Capacity\":56302,\"GeoLat\":53.558333,\"GeoLong\":-113.475000},{\"StadiumID\":82,\"Active\":false,\"Name\":\"Centre 200\",\"Address\":\"481 George St\",\"City\":\"Sydney\",\"State\":\"NS\",\"Zip\":\"B1P 1K5\",\"Country\":\"Canada\",\"Capacity\":5000,\"GeoLat\":46.137500,\"GeoLong\":-60.190278},{\"StadiumID\":83,\"Active\":false,\"Name\":\"Scotiabank Centre\",\"Address\":\"1800 Argyle St\",\"City\":\"Halifax\",\"State\":\"NS\",\"Zip\":\"B3J 2V9\",\"Country\":\"Canada\",\"Capacity\":11093,\"GeoLat\":44.648333,\"GeoLong\":-63.576667}]\n"
     ]
    }
   ],
   "source": [
    "print(response.text)\n"
   ]
  },
  {
   "cell_type": "code",
   "execution_count": 33,
   "metadata": {},
   "outputs": [
    {
     "name": "stdout",
     "output_type": "stream",
     "text": [
      "Data has been written to stadium_data.csv\n"
     ]
    }
   ],
   "source": [
    "import csv\n",
    "\n",
    "# Specify the field names for the CSV file based on the keys in the JSON objects\n",
    "fieldnames = data[0].keys() if data else []\n",
    "\n",
    "# Define the CSV file name\n",
    "csv_file = 'stadium_data.csv'\n",
    "\n",
    "# Write data to CSV file\n",
    "with open(csv_file, 'w', newline='') as csvfile:\n",
    "    writer = csv.DictWriter(csvfile, fieldnames=fieldnames)\n",
    "    writer.writeheader()\n",
    "    for item in data:\n",
    "        writer.writerow(item)\n",
    "\n",
    "print(f\"Data has been written to {csv_file}\")\n"
   ]
  }
 ],
 "metadata": {
  "kernelspec": {
   "display_name": "Dev",
   "language": "python",
   "name": "python3"
  },
  "language_info": {
   "codemirror_mode": {
    "name": "ipython",
    "version": 3
   },
   "file_extension": ".py",
   "mimetype": "text/x-python",
   "name": "python",
   "nbconvert_exporter": "python",
   "pygments_lexer": "ipython3",
   "version": "3.11.7"
  }
 },
 "nbformat": 4,
 "nbformat_minor": 2
}
