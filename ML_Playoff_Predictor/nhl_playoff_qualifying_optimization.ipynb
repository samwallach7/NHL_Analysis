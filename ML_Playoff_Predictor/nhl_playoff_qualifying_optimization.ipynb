{
 "cells": [
  {
   "cell_type": "code",
   "execution_count": 1,
   "metadata": {},
   "outputs": [],
   "source": [
    "import pandas as pd\n",
    "from sklearn.model_selection import train_test_split\n",
    "from sklearn.linear_model import LogisticRegression\n",
    "from sklearn.preprocessing import StandardScaler\n",
    "from sklearn.metrics import confusion_matrix, accuracy_score, classification_report"
   ]
  },
  {
   "cell_type": "code",
   "execution_count": 2,
   "metadata": {},
   "outputs": [
    {
     "data": {
      "text/html": [
       "<div>\n",
       "<style scoped>\n",
       "    .dataframe tbody tr th:only-of-type {\n",
       "        vertical-align: middle;\n",
       "    }\n",
       "\n",
       "    .dataframe tbody tr th {\n",
       "        vertical-align: top;\n",
       "    }\n",
       "\n",
       "    .dataframe thead th {\n",
       "        text-align: right;\n",
       "    }\n",
       "</style>\n",
       "<table border=\"1\" class=\"dataframe\">\n",
       "  <thead>\n",
       "    <tr style=\"text-align: right;\">\n",
       "      <th></th>\n",
       "      <th>tm_no</th>\n",
       "      <th>year</th>\n",
       "      <th>lgID</th>\n",
       "      <th>tmID</th>\n",
       "      <th>playoff</th>\n",
       "      <th>made_playoff</th>\n",
       "      <th>made_QF</th>\n",
       "      <th>made_CF</th>\n",
       "      <th>made_F</th>\n",
       "      <th>G</th>\n",
       "      <th>...</th>\n",
       "      <th>SHA</th>\n",
       "      <th>PKG</th>\n",
       "      <th>PKC</th>\n",
       "      <th>GF/gm</th>\n",
       "      <th>GA/gm</th>\n",
       "      <th>Goal_spread</th>\n",
       "      <th>PPG/gm</th>\n",
       "      <th>PPG_eff</th>\n",
       "      <th>PKG/gm</th>\n",
       "      <th>PK_eff</th>\n",
       "    </tr>\n",
       "  </thead>\n",
       "  <tbody>\n",
       "    <tr>\n",
       "      <th>0</th>\n",
       "      <td>1</td>\n",
       "      <td>1979</td>\n",
       "      <td>NHL</td>\n",
       "      <td>ATF</td>\n",
       "      <td>PRE</td>\n",
       "      <td>1</td>\n",
       "      <td>0</td>\n",
       "      <td>0</td>\n",
       "      <td>0</td>\n",
       "      <td>80</td>\n",
       "      <td>...</td>\n",
       "      <td>7</td>\n",
       "      <td>52</td>\n",
       "      <td>272</td>\n",
       "      <td>3.52</td>\n",
       "      <td>3.36</td>\n",
       "      <td>0.16</td>\n",
       "      <td>0.64</td>\n",
       "      <td>0.236</td>\n",
       "      <td>0.65</td>\n",
       "      <td>0.191</td>\n",
       "    </tr>\n",
       "    <tr>\n",
       "      <th>1</th>\n",
       "      <td>2</td>\n",
       "      <td>1979</td>\n",
       "      <td>NHL</td>\n",
       "      <td>BOS</td>\n",
       "      <td>QF</td>\n",
       "      <td>1</td>\n",
       "      <td>1</td>\n",
       "      <td>0</td>\n",
       "      <td>0</td>\n",
       "      <td>80</td>\n",
       "      <td>...</td>\n",
       "      <td>4</td>\n",
       "      <td>53</td>\n",
       "      <td>312</td>\n",
       "      <td>3.88</td>\n",
       "      <td>2.92</td>\n",
       "      <td>0.96</td>\n",
       "      <td>0.75</td>\n",
       "      <td>0.244</td>\n",
       "      <td>0.66</td>\n",
       "      <td>0.170</td>\n",
       "    </tr>\n",
       "    <tr>\n",
       "      <th>2</th>\n",
       "      <td>3</td>\n",
       "      <td>1979</td>\n",
       "      <td>NHL</td>\n",
       "      <td>BUF</td>\n",
       "      <td>SF</td>\n",
       "      <td>1</td>\n",
       "      <td>1</td>\n",
       "      <td>1</td>\n",
       "      <td>0</td>\n",
       "      <td>80</td>\n",
       "      <td>...</td>\n",
       "      <td>4</td>\n",
       "      <td>43</td>\n",
       "      <td>252</td>\n",
       "      <td>3.98</td>\n",
       "      <td>2.51</td>\n",
       "      <td>1.47</td>\n",
       "      <td>0.84</td>\n",
       "      <td>0.244</td>\n",
       "      <td>0.54</td>\n",
       "      <td>0.171</td>\n",
       "    </tr>\n",
       "    <tr>\n",
       "      <th>3</th>\n",
       "      <td>4</td>\n",
       "      <td>1979</td>\n",
       "      <td>NHL</td>\n",
       "      <td>CHI</td>\n",
       "      <td>QF</td>\n",
       "      <td>1</td>\n",
       "      <td>1</td>\n",
       "      <td>0</td>\n",
       "      <td>0</td>\n",
       "      <td>80</td>\n",
       "      <td>...</td>\n",
       "      <td>9</td>\n",
       "      <td>56</td>\n",
       "      <td>293</td>\n",
       "      <td>3.01</td>\n",
       "      <td>3.12</td>\n",
       "      <td>-0.11</td>\n",
       "      <td>0.80</td>\n",
       "      <td>0.238</td>\n",
       "      <td>0.70</td>\n",
       "      <td>0.191</td>\n",
       "    </tr>\n",
       "    <tr>\n",
       "      <th>4</th>\n",
       "      <td>5</td>\n",
       "      <td>1979</td>\n",
       "      <td>NHL</td>\n",
       "      <td>COR</td>\n",
       "      <td>NaN</td>\n",
       "      <td>0</td>\n",
       "      <td>0</td>\n",
       "      <td>0</td>\n",
       "      <td>0</td>\n",
       "      <td>80</td>\n",
       "      <td>...</td>\n",
       "      <td>3</td>\n",
       "      <td>52</td>\n",
       "      <td>233</td>\n",
       "      <td>2.92</td>\n",
       "      <td>3.85</td>\n",
       "      <td>-0.93</td>\n",
       "      <td>0.66</td>\n",
       "      <td>0.174</td>\n",
       "      <td>0.65</td>\n",
       "      <td>0.223</td>\n",
       "    </tr>\n",
       "  </tbody>\n",
       "</table>\n",
       "<p>5 rows × 34 columns</p>\n",
       "</div>"
      ],
      "text/plain": [
       "   tm_no  year lgID tmID playoff  made_playoff  made_QF  made_CF  made_F   G  \\\n",
       "0      1  1979  NHL  ATF     PRE             1        0        0       0  80   \n",
       "1      2  1979  NHL  BOS      QF             1        1        0       0  80   \n",
       "2      3  1979  NHL  BUF      SF             1        1        1       0  80   \n",
       "3      4  1979  NHL  CHI      QF             1        1        0       0  80   \n",
       "4      5  1979  NHL  COR     NaN             0        0        0       0  80   \n",
       "\n",
       "   ...  SHA  PKG  PKC  GF/gm  GA/gm  Goal_spread  PPG/gm  PPG_eff  PKG/gm  \\\n",
       "0  ...    7   52  272   3.52   3.36         0.16    0.64    0.236    0.65   \n",
       "1  ...    4   53  312   3.88   2.92         0.96    0.75    0.244    0.66   \n",
       "2  ...    4   43  252   3.98   2.51         1.47    0.84    0.244    0.54   \n",
       "3  ...    9   56  293   3.01   3.12        -0.11    0.80    0.238    0.70   \n",
       "4  ...    3   52  233   2.92   3.85        -0.93    0.66    0.174    0.65   \n",
       "\n",
       "   PK_eff  \n",
       "0   0.191  \n",
       "1   0.170  \n",
       "2   0.171  \n",
       "3   0.191  \n",
       "4   0.223  \n",
       "\n",
       "[5 rows x 34 columns]"
      ]
     },
     "execution_count": 2,
     "metadata": {},
     "output_type": "execute_result"
    }
   ],
   "source": [
    "# Loading data\n",
    "nhl_df = pd.read_csv('../hockey_starting_data/nhl_analysis_79-11.csv')\n",
    "nhl_df.head()"
   ]
  },
  {
   "cell_type": "markdown",
   "metadata": {},
   "source": [
    "***Below we are determining the best result for optimizing our machine learning model to predict the teams that qualify for the playoffs based on their season statistics***"
   ]
  },
  {
   "cell_type": "markdown",
   "metadata": {},
   "source": [
    "**Option #1: Use penalty minutes and power play/penalty kill goals**"
   ]
  },
  {
   "cell_type": "code",
   "execution_count": 3,
   "metadata": {},
   "outputs": [
    {
     "data": {
      "text/html": [
       "<div>\n",
       "<style scoped>\n",
       "    .dataframe tbody tr th:only-of-type {\n",
       "        vertical-align: middle;\n",
       "    }\n",
       "\n",
       "    .dataframe tbody tr th {\n",
       "        vertical-align: top;\n",
       "    }\n",
       "\n",
       "    .dataframe thead th {\n",
       "        text-align: right;\n",
       "    }\n",
       "</style>\n",
       "<table border=\"1\" class=\"dataframe\">\n",
       "  <thead>\n",
       "    <tr style=\"text-align: right;\">\n",
       "      <th></th>\n",
       "      <th>made_playoff</th>\n",
       "      <th>PIM/gm</th>\n",
       "      <th>PPG/gm</th>\n",
       "      <th>PKG/gm</th>\n",
       "    </tr>\n",
       "  </thead>\n",
       "  <tbody>\n",
       "    <tr>\n",
       "      <th>0</th>\n",
       "      <td>1</td>\n",
       "      <td>13.1</td>\n",
       "      <td>0.64</td>\n",
       "      <td>0.65</td>\n",
       "    </tr>\n",
       "    <tr>\n",
       "      <th>1</th>\n",
       "      <td>1</td>\n",
       "      <td>18.3</td>\n",
       "      <td>0.75</td>\n",
       "      <td>0.66</td>\n",
       "    </tr>\n",
       "    <tr>\n",
       "      <th>2</th>\n",
       "      <td>1</td>\n",
       "      <td>12.1</td>\n",
       "      <td>0.84</td>\n",
       "      <td>0.54</td>\n",
       "    </tr>\n",
       "    <tr>\n",
       "      <th>3</th>\n",
       "      <td>1</td>\n",
       "      <td>16.6</td>\n",
       "      <td>0.80</td>\n",
       "      <td>0.70</td>\n",
       "    </tr>\n",
       "    <tr>\n",
       "      <th>4</th>\n",
       "      <td>0</td>\n",
       "      <td>12.8</td>\n",
       "      <td>0.66</td>\n",
       "      <td>0.65</td>\n",
       "    </tr>\n",
       "  </tbody>\n",
       "</table>\n",
       "</div>"
      ],
      "text/plain": [
       "   made_playoff  PIM/gm  PPG/gm  PKG/gm\n",
       "0             1    13.1    0.64    0.65\n",
       "1             1    18.3    0.75    0.66\n",
       "2             1    12.1    0.84    0.54\n",
       "3             1    16.6    0.80    0.70\n",
       "4             0    12.8    0.66    0.65"
      ]
     },
     "execution_count": 3,
     "metadata": {},
     "output_type": "execute_result"
    }
   ],
   "source": [
    "selected_columns = [\"made_playoff\", \"PIM/gm\", \"PPG/gm\", \"PKG/gm\"]\n",
    "nhl_playoff_predictor_df = nhl_df[selected_columns]\n",
    "nhl_playoff_predictor_df.head()"
   ]
  },
  {
   "cell_type": "code",
   "execution_count": 4,
   "metadata": {},
   "outputs": [
    {
     "name": "stdout",
     "output_type": "stream",
     "text": [
      "Training Data Score: 0.7813559322033898\n",
      "Testing Data Score: 0.7258883248730964\n"
     ]
    }
   ],
   "source": [
    "# Define target and feature variables\n",
    "y = nhl_playoff_predictor_df[\"made_playoff\"]\n",
    "X = nhl_playoff_predictor_df.copy()\n",
    "X.drop(\"made_playoff\", axis=1, inplace=True)\n",
    "\n",
    "# Splitting into Train and Test sets\n",
    "X_train, X_test, y_train, y_test = train_test_split(X, y, random_state=42)\n",
    "\n",
    "# Instantiate the Logistic Regression model\n",
    "# Assign a random_state parameter of 1 to the model\n",
    "classifier = LogisticRegression(solver='lbfgs', max_iter=200, random_state=1)\n",
    "classifier\n",
    "\n",
    "# Fit the model using training data\n",
    "classifier.fit(X_train, y_train)\n",
    "\n",
    "# Scoring the model using the test data\n",
    "print(f\"Training Data Score: {classifier.score(X_train, y_train)}\")\n",
    "print(f\"Testing Data Score: {classifier.score(X_test, y_test)}\")"
   ]
  },
  {
   "cell_type": "code",
   "execution_count": 5,
   "metadata": {},
   "outputs": [
    {
     "data": {
      "text/plain": [
       "array([[ 34,  34],\n",
       "       [ 20, 109]])"
      ]
     },
     "execution_count": 5,
     "metadata": {},
     "output_type": "execute_result"
    }
   ],
   "source": [
    "# Make a prediction using the testing data\n",
    "predicitons = classifier.predict(X_test)\n",
    "results = pd.DataFrame({\"Prediction\": predicitons, \"Actual\": y_test}).reset_index(drop=True)\n",
    "\n",
    "# Generate a confusion matrix for the model\n",
    "confusion_matrix(y_test, predicitons)"
   ]
  },
  {
   "cell_type": "code",
   "execution_count": 6,
   "metadata": {},
   "outputs": [
    {
     "name": "stdout",
     "output_type": "stream",
     "text": [
      "                           precision    recall  f1-score   support\n",
      "\n",
      "0 (Did not make playoffs)       0.63      0.50      0.56        68\n",
      "        1 (Made playoffs)       0.76      0.84      0.80       129\n",
      "\n",
      "                 accuracy                           0.73       197\n",
      "                macro avg       0.70      0.67      0.68       197\n",
      "             weighted avg       0.72      0.73      0.72       197\n",
      "\n"
     ]
    }
   ],
   "source": [
    "# Print the classification report for the model\n",
    "target_names = [\"0 (Did not make playoffs)\", \"1 (Made playoffs)\"]\n",
    "print(classification_report(y_test, predicitons, target_names=target_names))"
   ]
  },
  {
   "cell_type": "markdown",
   "metadata": {},
   "source": [
    "**Option #2: Add in goals for and against to above optimization attempt**"
   ]
  },
  {
   "cell_type": "code",
   "execution_count": 7,
   "metadata": {},
   "outputs": [
    {
     "data": {
      "text/html": [
       "<div>\n",
       "<style scoped>\n",
       "    .dataframe tbody tr th:only-of-type {\n",
       "        vertical-align: middle;\n",
       "    }\n",
       "\n",
       "    .dataframe tbody tr th {\n",
       "        vertical-align: top;\n",
       "    }\n",
       "\n",
       "    .dataframe thead th {\n",
       "        text-align: right;\n",
       "    }\n",
       "</style>\n",
       "<table border=\"1\" class=\"dataframe\">\n",
       "  <thead>\n",
       "    <tr style=\"text-align: right;\">\n",
       "      <th></th>\n",
       "      <th>made_playoff</th>\n",
       "      <th>GF/gm</th>\n",
       "      <th>GA/gm</th>\n",
       "      <th>PIM/gm</th>\n",
       "      <th>PPG/gm</th>\n",
       "      <th>PKG/gm</th>\n",
       "    </tr>\n",
       "  </thead>\n",
       "  <tbody>\n",
       "    <tr>\n",
       "      <th>0</th>\n",
       "      <td>1</td>\n",
       "      <td>3.52</td>\n",
       "      <td>3.36</td>\n",
       "      <td>13.1</td>\n",
       "      <td>0.64</td>\n",
       "      <td>0.65</td>\n",
       "    </tr>\n",
       "    <tr>\n",
       "      <th>1</th>\n",
       "      <td>1</td>\n",
       "      <td>3.88</td>\n",
       "      <td>2.92</td>\n",
       "      <td>18.3</td>\n",
       "      <td>0.75</td>\n",
       "      <td>0.66</td>\n",
       "    </tr>\n",
       "    <tr>\n",
       "      <th>2</th>\n",
       "      <td>1</td>\n",
       "      <td>3.98</td>\n",
       "      <td>2.51</td>\n",
       "      <td>12.1</td>\n",
       "      <td>0.84</td>\n",
       "      <td>0.54</td>\n",
       "    </tr>\n",
       "    <tr>\n",
       "      <th>3</th>\n",
       "      <td>1</td>\n",
       "      <td>3.01</td>\n",
       "      <td>3.12</td>\n",
       "      <td>16.6</td>\n",
       "      <td>0.80</td>\n",
       "      <td>0.70</td>\n",
       "    </tr>\n",
       "    <tr>\n",
       "      <th>4</th>\n",
       "      <td>0</td>\n",
       "      <td>2.92</td>\n",
       "      <td>3.85</td>\n",
       "      <td>12.8</td>\n",
       "      <td>0.66</td>\n",
       "      <td>0.65</td>\n",
       "    </tr>\n",
       "  </tbody>\n",
       "</table>\n",
       "</div>"
      ],
      "text/plain": [
       "   made_playoff  GF/gm  GA/gm  PIM/gm  PPG/gm  PKG/gm\n",
       "0             1   3.52   3.36    13.1    0.64    0.65\n",
       "1             1   3.88   2.92    18.3    0.75    0.66\n",
       "2             1   3.98   2.51    12.1    0.84    0.54\n",
       "3             1   3.01   3.12    16.6    0.80    0.70\n",
       "4             0   2.92   3.85    12.8    0.66    0.65"
      ]
     },
     "execution_count": 7,
     "metadata": {},
     "output_type": "execute_result"
    }
   ],
   "source": [
    "selected_columns = [\"made_playoff\", \"GF/gm\", \"GA/gm\", \"PIM/gm\", \"PPG/gm\", \"PKG/gm\"]\n",
    "nhl_playoff_predictor_df = nhl_df[selected_columns]\n",
    "nhl_playoff_predictor_df.head()"
   ]
  },
  {
   "cell_type": "code",
   "execution_count": 8,
   "metadata": {},
   "outputs": [
    {
     "name": "stdout",
     "output_type": "stream",
     "text": [
      "Training Data Score: 0.8847457627118644\n",
      "Testing Data Score: 0.883248730964467\n"
     ]
    }
   ],
   "source": [
    "# Define target and feature variables\n",
    "y = nhl_playoff_predictor_df[\"made_playoff\"]\n",
    "X = nhl_playoff_predictor_df.copy()\n",
    "X.drop(\"made_playoff\", axis=1, inplace=True)\n",
    "\n",
    "# Splitting into Train and Test sets\n",
    "X_train, X_test, y_train, y_test = train_test_split(X, y, random_state=42)\n",
    "\n",
    "# Instantiate the Logistic Regression model\n",
    "# Assign a random_state parameter of 1 to the model\n",
    "classifier = LogisticRegression(solver='lbfgs', max_iter=200, random_state=1)\n",
    "classifier\n",
    "\n",
    "# Fit the model using training data\n",
    "classifier.fit(X_train, y_train)\n",
    "\n",
    "# Scoring the model using the test data\n",
    "print(f\"Training Data Score: {classifier.score(X_train, y_train)}\")\n",
    "print(f\"Testing Data Score: {classifier.score(X_test, y_test)}\")"
   ]
  },
  {
   "cell_type": "code",
   "execution_count": 9,
   "metadata": {},
   "outputs": [
    {
     "data": {
      "text/plain": [
       "array([[ 52,  16],\n",
       "       [  7, 122]])"
      ]
     },
     "execution_count": 9,
     "metadata": {},
     "output_type": "execute_result"
    }
   ],
   "source": [
    "# Make a prediction using the testing data\n",
    "predicitons = classifier.predict(X_test)\n",
    "results = pd.DataFrame({\"Prediction\": predicitons, \"Actual\": y_test}).reset_index(drop=True)\n",
    "\n",
    "# Generate a confusion matrix for the model\n",
    "confusion_matrix(y_test, predicitons)"
   ]
  },
  {
   "cell_type": "code",
   "execution_count": 10,
   "metadata": {},
   "outputs": [
    {
     "name": "stdout",
     "output_type": "stream",
     "text": [
      "                           precision    recall  f1-score   support\n",
      "\n",
      "0 (Did not make playoffs)       0.88      0.76      0.82        68\n",
      "        1 (Made playoffs)       0.88      0.95      0.91       129\n",
      "\n",
      "                 accuracy                           0.88       197\n",
      "                macro avg       0.88      0.86      0.87       197\n",
      "             weighted avg       0.88      0.88      0.88       197\n",
      "\n"
     ]
    }
   ],
   "source": [
    "# Print the classification report for the model\n",
    "target_names = [\"0 (Did not make playoffs)\", \"1 (Made playoffs)\"]\n",
    "print(classification_report(y_test, predicitons, target_names=target_names))"
   ]
  },
  {
   "cell_type": "markdown",
   "metadata": {},
   "source": [
    "**Option #3: Testing goals for and against without penalty statistics**"
   ]
  },
  {
   "cell_type": "code",
   "execution_count": 11,
   "metadata": {},
   "outputs": [
    {
     "data": {
      "text/html": [
       "<div>\n",
       "<style scoped>\n",
       "    .dataframe tbody tr th:only-of-type {\n",
       "        vertical-align: middle;\n",
       "    }\n",
       "\n",
       "    .dataframe tbody tr th {\n",
       "        vertical-align: top;\n",
       "    }\n",
       "\n",
       "    .dataframe thead th {\n",
       "        text-align: right;\n",
       "    }\n",
       "</style>\n",
       "<table border=\"1\" class=\"dataframe\">\n",
       "  <thead>\n",
       "    <tr style=\"text-align: right;\">\n",
       "      <th></th>\n",
       "      <th>made_playoff</th>\n",
       "      <th>GF/gm</th>\n",
       "      <th>GA/gm</th>\n",
       "    </tr>\n",
       "  </thead>\n",
       "  <tbody>\n",
       "    <tr>\n",
       "      <th>0</th>\n",
       "      <td>1</td>\n",
       "      <td>3.52</td>\n",
       "      <td>3.36</td>\n",
       "    </tr>\n",
       "    <tr>\n",
       "      <th>1</th>\n",
       "      <td>1</td>\n",
       "      <td>3.88</td>\n",
       "      <td>2.92</td>\n",
       "    </tr>\n",
       "    <tr>\n",
       "      <th>2</th>\n",
       "      <td>1</td>\n",
       "      <td>3.98</td>\n",
       "      <td>2.51</td>\n",
       "    </tr>\n",
       "    <tr>\n",
       "      <th>3</th>\n",
       "      <td>1</td>\n",
       "      <td>3.01</td>\n",
       "      <td>3.12</td>\n",
       "    </tr>\n",
       "    <tr>\n",
       "      <th>4</th>\n",
       "      <td>0</td>\n",
       "      <td>2.92</td>\n",
       "      <td>3.85</td>\n",
       "    </tr>\n",
       "  </tbody>\n",
       "</table>\n",
       "</div>"
      ],
      "text/plain": [
       "   made_playoff  GF/gm  GA/gm\n",
       "0             1   3.52   3.36\n",
       "1             1   3.88   2.92\n",
       "2             1   3.98   2.51\n",
       "3             1   3.01   3.12\n",
       "4             0   2.92   3.85"
      ]
     },
     "execution_count": 11,
     "metadata": {},
     "output_type": "execute_result"
    }
   ],
   "source": [
    "selected_columns = [\"made_playoff\", \"GF/gm\", \"GA/gm\"]\n",
    "nhl_playoff_predictor_df = nhl_df[selected_columns]\n",
    "nhl_playoff_predictor_df.head()"
   ]
  },
  {
   "cell_type": "code",
   "execution_count": 12,
   "metadata": {},
   "outputs": [
    {
     "name": "stdout",
     "output_type": "stream",
     "text": [
      "Training Data Score: 0.8847457627118644\n",
      "Testing Data Score: 0.8984771573604061\n"
     ]
    }
   ],
   "source": [
    "# Define target and feature variables\n",
    "y = nhl_playoff_predictor_df[\"made_playoff\"]\n",
    "X = nhl_playoff_predictor_df.copy()\n",
    "X.drop(\"made_playoff\", axis=1, inplace=True)\n",
    "\n",
    "# Splitting into Train and Test sets\n",
    "X_train, X_test, y_train, y_test = train_test_split(X, y, random_state=42)\n",
    "\n",
    "# Instantiate the Logistic Regression model\n",
    "# Assign a random_state parameter of 1 to the model\n",
    "classifier = LogisticRegression(solver='lbfgs', max_iter=200, random_state=1)\n",
    "classifier\n",
    "\n",
    "# Fit the model using training data\n",
    "classifier.fit(X_train, y_train)\n",
    "\n",
    "# Scoring the model using the test data\n",
    "print(f\"Training Data Score: {classifier.score(X_train, y_train)}\")\n",
    "print(f\"Testing Data Score: {classifier.score(X_test, y_test)}\")"
   ]
  },
  {
   "cell_type": "code",
   "execution_count": 13,
   "metadata": {},
   "outputs": [
    {
     "data": {
      "text/plain": [
       "array([[ 53,  15],\n",
       "       [  5, 124]])"
      ]
     },
     "execution_count": 13,
     "metadata": {},
     "output_type": "execute_result"
    }
   ],
   "source": [
    "# Make a prediction using the testing data\n",
    "predicitons = classifier.predict(X_test)\n",
    "results = pd.DataFrame({\"Prediction\": predicitons, \"Actual\": y_test}).reset_index(drop=True)\n",
    "\n",
    "# Generate a confusion matrix for the model\n",
    "confusion_matrix(y_test, predicitons)"
   ]
  },
  {
   "cell_type": "code",
   "execution_count": 14,
   "metadata": {},
   "outputs": [
    {
     "name": "stdout",
     "output_type": "stream",
     "text": [
      "                           precision    recall  f1-score   support\n",
      "\n",
      "0 (Did not make playoffs)       0.91      0.78      0.84        68\n",
      "        1 (Made playoffs)       0.89      0.96      0.93       129\n",
      "\n",
      "                 accuracy                           0.90       197\n",
      "                macro avg       0.90      0.87      0.88       197\n",
      "             weighted avg       0.90      0.90      0.90       197\n",
      "\n"
     ]
    }
   ],
   "source": [
    "# Print the classification report for the model\n",
    "target_names = [\"0 (Did not make playoffs)\", \"1 (Made playoffs)\"]\n",
    "print(classification_report(y_test, predicitons, target_names=target_names))"
   ]
  },
  {
   "cell_type": "markdown",
   "metadata": {},
   "source": [
    "**Option #4: Use power play and penalty kill efficiency metrics instead of amounts per game**"
   ]
  },
  {
   "cell_type": "code",
   "execution_count": 15,
   "metadata": {},
   "outputs": [
    {
     "data": {
      "text/html": [
       "<div>\n",
       "<style scoped>\n",
       "    .dataframe tbody tr th:only-of-type {\n",
       "        vertical-align: middle;\n",
       "    }\n",
       "\n",
       "    .dataframe tbody tr th {\n",
       "        vertical-align: top;\n",
       "    }\n",
       "\n",
       "    .dataframe thead th {\n",
       "        text-align: right;\n",
       "    }\n",
       "</style>\n",
       "<table border=\"1\" class=\"dataframe\">\n",
       "  <thead>\n",
       "    <tr style=\"text-align: right;\">\n",
       "      <th></th>\n",
       "      <th>made_playoff</th>\n",
       "      <th>GF/gm</th>\n",
       "      <th>GA/gm</th>\n",
       "      <th>PIM/gm</th>\n",
       "      <th>PPG_eff</th>\n",
       "      <th>PK_eff</th>\n",
       "    </tr>\n",
       "  </thead>\n",
       "  <tbody>\n",
       "    <tr>\n",
       "      <th>0</th>\n",
       "      <td>1</td>\n",
       "      <td>3.52</td>\n",
       "      <td>3.36</td>\n",
       "      <td>13.1</td>\n",
       "      <td>0.236</td>\n",
       "      <td>0.191</td>\n",
       "    </tr>\n",
       "    <tr>\n",
       "      <th>1</th>\n",
       "      <td>1</td>\n",
       "      <td>3.88</td>\n",
       "      <td>2.92</td>\n",
       "      <td>18.3</td>\n",
       "      <td>0.244</td>\n",
       "      <td>0.170</td>\n",
       "    </tr>\n",
       "    <tr>\n",
       "      <th>2</th>\n",
       "      <td>1</td>\n",
       "      <td>3.98</td>\n",
       "      <td>2.51</td>\n",
       "      <td>12.1</td>\n",
       "      <td>0.244</td>\n",
       "      <td>0.171</td>\n",
       "    </tr>\n",
       "    <tr>\n",
       "      <th>3</th>\n",
       "      <td>1</td>\n",
       "      <td>3.01</td>\n",
       "      <td>3.12</td>\n",
       "      <td>16.6</td>\n",
       "      <td>0.238</td>\n",
       "      <td>0.191</td>\n",
       "    </tr>\n",
       "    <tr>\n",
       "      <th>4</th>\n",
       "      <td>0</td>\n",
       "      <td>2.92</td>\n",
       "      <td>3.85</td>\n",
       "      <td>12.8</td>\n",
       "      <td>0.174</td>\n",
       "      <td>0.223</td>\n",
       "    </tr>\n",
       "  </tbody>\n",
       "</table>\n",
       "</div>"
      ],
      "text/plain": [
       "   made_playoff  GF/gm  GA/gm  PIM/gm  PPG_eff  PK_eff\n",
       "0             1   3.52   3.36    13.1    0.236   0.191\n",
       "1             1   3.88   2.92    18.3    0.244   0.170\n",
       "2             1   3.98   2.51    12.1    0.244   0.171\n",
       "3             1   3.01   3.12    16.6    0.238   0.191\n",
       "4             0   2.92   3.85    12.8    0.174   0.223"
      ]
     },
     "execution_count": 15,
     "metadata": {},
     "output_type": "execute_result"
    }
   ],
   "source": [
    "selected_columns = [\"made_playoff\", \"GF/gm\", \"GA/gm\", \"PIM/gm\", \"PPG_eff\", \"PK_eff\"]\n",
    "nhl_playoff_predictor_df = nhl_df[selected_columns]\n",
    "nhl_playoff_predictor_df.head()"
   ]
  },
  {
   "cell_type": "code",
   "execution_count": 16,
   "metadata": {},
   "outputs": [
    {
     "name": "stdout",
     "output_type": "stream",
     "text": [
      "Training Data Score: 0.8847457627118644\n",
      "Testing Data Score: 0.8883248730964467\n"
     ]
    }
   ],
   "source": [
    "# Define target and feature variables\n",
    "y = nhl_playoff_predictor_df[\"made_playoff\"]\n",
    "X = nhl_playoff_predictor_df.copy()\n",
    "X.drop(\"made_playoff\", axis=1, inplace=True)\n",
    "\n",
    "# Splitting into Train and Test sets\n",
    "X_train, X_test, y_train, y_test = train_test_split(X, y, random_state=42)\n",
    "\n",
    "# Instantiate the Logistic Regression model\n",
    "# Assign a random_state parameter of 1 to the model\n",
    "classifier = LogisticRegression(solver='lbfgs', max_iter=200, random_state=1)\n",
    "classifier\n",
    "\n",
    "# Fit the model using training data\n",
    "classifier.fit(X_train, y_train)\n",
    "\n",
    "# Scoring the model using the test data\n",
    "print(f\"Training Data Score: {classifier.score(X_train, y_train)}\")\n",
    "print(f\"Testing Data Score: {classifier.score(X_test, y_test)}\")"
   ]
  },
  {
   "cell_type": "code",
   "execution_count": 17,
   "metadata": {},
   "outputs": [
    {
     "data": {
      "text/plain": [
       "array([[ 52,  16],\n",
       "       [  6, 123]])"
      ]
     },
     "execution_count": 17,
     "metadata": {},
     "output_type": "execute_result"
    }
   ],
   "source": [
    "# Make a prediction using the testing data\n",
    "predicitons = classifier.predict(X_test)\n",
    "results = pd.DataFrame({\"Prediction\": predicitons, \"Actual\": y_test}).reset_index(drop=True)\n",
    "\n",
    "# Generate a confusion matrix for the model\n",
    "confusion_matrix(y_test, predicitons)"
   ]
  },
  {
   "cell_type": "code",
   "execution_count": 18,
   "metadata": {},
   "outputs": [
    {
     "name": "stdout",
     "output_type": "stream",
     "text": [
      "                           precision    recall  f1-score   support\n",
      "\n",
      "0 (Did not make playoffs)       0.90      0.76      0.83        68\n",
      "        1 (Made playoffs)       0.88      0.95      0.92       129\n",
      "\n",
      "                 accuracy                           0.89       197\n",
      "                macro avg       0.89      0.86      0.87       197\n",
      "             weighted avg       0.89      0.89      0.89       197\n",
      "\n"
     ]
    }
   ],
   "source": [
    "# Print the classification report for the model\n",
    "target_names = [\"0 (Did not make playoffs)\", \"1 (Made playoffs)\"]\n",
    "print(classification_report(y_test, predicitons, target_names=target_names))"
   ]
  },
  {
   "cell_type": "markdown",
   "metadata": {},
   "source": [
    "**Option #5: Remove penalty minutes incurred from the model**"
   ]
  },
  {
   "cell_type": "code",
   "execution_count": 19,
   "metadata": {},
   "outputs": [
    {
     "data": {
      "text/html": [
       "<div>\n",
       "<style scoped>\n",
       "    .dataframe tbody tr th:only-of-type {\n",
       "        vertical-align: middle;\n",
       "    }\n",
       "\n",
       "    .dataframe tbody tr th {\n",
       "        vertical-align: top;\n",
       "    }\n",
       "\n",
       "    .dataframe thead th {\n",
       "        text-align: right;\n",
       "    }\n",
       "</style>\n",
       "<table border=\"1\" class=\"dataframe\">\n",
       "  <thead>\n",
       "    <tr style=\"text-align: right;\">\n",
       "      <th></th>\n",
       "      <th>made_playoff</th>\n",
       "      <th>GF/gm</th>\n",
       "      <th>GA/gm</th>\n",
       "      <th>PPG_eff</th>\n",
       "      <th>PK_eff</th>\n",
       "    </tr>\n",
       "  </thead>\n",
       "  <tbody>\n",
       "    <tr>\n",
       "      <th>0</th>\n",
       "      <td>1</td>\n",
       "      <td>3.52</td>\n",
       "      <td>3.36</td>\n",
       "      <td>0.236</td>\n",
       "      <td>0.191</td>\n",
       "    </tr>\n",
       "    <tr>\n",
       "      <th>1</th>\n",
       "      <td>1</td>\n",
       "      <td>3.88</td>\n",
       "      <td>2.92</td>\n",
       "      <td>0.244</td>\n",
       "      <td>0.170</td>\n",
       "    </tr>\n",
       "    <tr>\n",
       "      <th>2</th>\n",
       "      <td>1</td>\n",
       "      <td>3.98</td>\n",
       "      <td>2.51</td>\n",
       "      <td>0.244</td>\n",
       "      <td>0.171</td>\n",
       "    </tr>\n",
       "    <tr>\n",
       "      <th>3</th>\n",
       "      <td>1</td>\n",
       "      <td>3.01</td>\n",
       "      <td>3.12</td>\n",
       "      <td>0.238</td>\n",
       "      <td>0.191</td>\n",
       "    </tr>\n",
       "    <tr>\n",
       "      <th>4</th>\n",
       "      <td>0</td>\n",
       "      <td>2.92</td>\n",
       "      <td>3.85</td>\n",
       "      <td>0.174</td>\n",
       "      <td>0.223</td>\n",
       "    </tr>\n",
       "  </tbody>\n",
       "</table>\n",
       "</div>"
      ],
      "text/plain": [
       "   made_playoff  GF/gm  GA/gm  PPG_eff  PK_eff\n",
       "0             1   3.52   3.36    0.236   0.191\n",
       "1             1   3.88   2.92    0.244   0.170\n",
       "2             1   3.98   2.51    0.244   0.171\n",
       "3             1   3.01   3.12    0.238   0.191\n",
       "4             0   2.92   3.85    0.174   0.223"
      ]
     },
     "execution_count": 19,
     "metadata": {},
     "output_type": "execute_result"
    }
   ],
   "source": [
    "selected_columns = [\"made_playoff\", \"GF/gm\", \"GA/gm\", \"PPG_eff\", \"PK_eff\"]\n",
    "nhl_playoff_predictor_df = nhl_df[selected_columns]\n",
    "nhl_playoff_predictor_df.head()"
   ]
  },
  {
   "cell_type": "code",
   "execution_count": 20,
   "metadata": {},
   "outputs": [
    {
     "name": "stdout",
     "output_type": "stream",
     "text": [
      "Training Data Score: 0.8864406779661017\n",
      "Testing Data Score: 0.9035532994923858\n"
     ]
    }
   ],
   "source": [
    "# Define target and feature variables\n",
    "y = nhl_playoff_predictor_df[\"made_playoff\"]\n",
    "X = nhl_playoff_predictor_df.copy()\n",
    "X.drop(\"made_playoff\", axis=1, inplace=True)\n",
    "\n",
    "# Splitting into Train and Test sets\n",
    "X_train, X_test, y_train, y_test = train_test_split(X, y, random_state=42)\n",
    "\n",
    "# Instantiate the Logistic Regression model\n",
    "# Assign a random_state parameter of 1 to the model\n",
    "classifier = LogisticRegression(solver='lbfgs', max_iter=200, random_state=1)\n",
    "classifier\n",
    "\n",
    "# Fit the model using training data\n",
    "classifier.fit(X_train, y_train)\n",
    "\n",
    "# Scoring the model using the test data\n",
    "print(f\"Training Data Score: {classifier.score(X_train, y_train)}\")\n",
    "print(f\"Testing Data Score: {classifier.score(X_test, y_test)}\")"
   ]
  },
  {
   "cell_type": "code",
   "execution_count": 21,
   "metadata": {},
   "outputs": [
    {
     "data": {
      "text/plain": [
       "array([[ 53,  15],\n",
       "       [  4, 125]])"
      ]
     },
     "execution_count": 21,
     "metadata": {},
     "output_type": "execute_result"
    }
   ],
   "source": [
    "# Make a prediction using the testing data\n",
    "predicitons = classifier.predict(X_test)\n",
    "results = pd.DataFrame({\"Prediction\": predicitons, \"Actual\": y_test}).reset_index(drop=True)\n",
    "\n",
    "# Generate a confusion matrix for the model\n",
    "confusion_matrix(y_test, predicitons)"
   ]
  },
  {
   "cell_type": "code",
   "execution_count": 22,
   "metadata": {},
   "outputs": [
    {
     "name": "stdout",
     "output_type": "stream",
     "text": [
      "                           precision    recall  f1-score   support\n",
      "\n",
      "0 (Did not make playoffs)       0.93      0.78      0.85        68\n",
      "        1 (Made playoffs)       0.89      0.97      0.93       129\n",
      "\n",
      "                 accuracy                           0.90       197\n",
      "                macro avg       0.91      0.87      0.89       197\n",
      "             weighted avg       0.91      0.90      0.90       197\n",
      "\n"
     ]
    }
   ],
   "source": [
    "# Print the classification report for the model\n",
    "target_names = [\"0 (Did not make playoffs)\", \"1 (Made playoffs)\"]\n",
    "print(classification_report(y_test, predicitons, target_names=target_names))"
   ]
  },
  {
   "cell_type": "markdown",
   "metadata": {},
   "source": [
    "**This model achieved the best accuracy results among all of the attempts. We did not want to use the team's 'Pts/gm' metric in an effort to build a model that would not be influenced directly by their wins and losses, but rather indirectly by their goal and efficiency metrics.**"
   ]
  }
 ],
 "metadata": {
  "kernelspec": {
   "display_name": ".venv",
   "language": "python",
   "name": "python3"
  },
  "language_info": {
   "codemirror_mode": {
    "name": "ipython",
    "version": 3
   },
   "file_extension": ".py",
   "mimetype": "text/x-python",
   "name": "python",
   "nbconvert_exporter": "python",
   "pygments_lexer": "ipython3",
   "version": "3.9.6"
  }
 },
 "nbformat": 4,
 "nbformat_minor": 2
}
